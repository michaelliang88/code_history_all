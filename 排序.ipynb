{
 "cells": [
  {
   "cell_type": "code",
   "execution_count": 15,
   "metadata": {},
   "outputs": [
    {
     "name": "stdout",
     "output_type": "stream",
     "text": [
      "0\n",
      "9\n"
     ]
    }
   ],
   "source": [
    "#需要排序的序列\n",
    "n = [9,1,5,8,3,7,4,6,2]\n",
    "\n",
    "#定义交换函数\n",
    "def swap(xulie,i,j):\n",
    "    temp =xulie[i]\n",
    "    xulie[i]= xulie[j]\n",
    "    xulie[j]= temp\n",
    "    \n",
    "## python 交换两个数，神奇耳朵操作语句\n",
    "a = 9\n",
    "b = 0\n",
    "a,b = b,a #这样既可实现\n",
    "print(a)\n",
    "print(b)"
   ]
  },
  {
   "cell_type": "markdown",
   "metadata": {},
   "source": [
    "#  1.冒泡排序"
   ]
  },
  {
   "cell_type": "code",
   "execution_count": 7,
   "metadata": {},
   "outputs": [
    {
     "data": {
      "text/plain": [
       "[1, 2, 3, 4, 5, 6, 7, 8, 9]"
      ]
     },
     "execution_count": 7,
     "metadata": {},
     "output_type": "execute_result"
    }
   ],
   "source": [
    "def BubbleSort(xulie):\n",
    "    for i in range (len(xulie)):\n",
    "        for j in range (i+1,len(xulie)):\n",
    "            if xulie[i]>xulie[j]:\n",
    "                #swap(xulie,i,j)\n",
    "                xulie[i],xulie[j] = xulie[j],xulie[i]\n",
    "\n",
    "n = [9,1,5,8,3,7,4,6,2]\n",
    "BubbleSort(n)\n",
    "n"
   ]
  },
  {
   "cell_type": "markdown",
   "metadata": {},
   "source": [
    "# 2.简单选择排序"
   ]
  },
  {
   "cell_type": "code",
   "execution_count": 18,
   "metadata": {},
   "outputs": [
    {
     "data": {
      "text/plain": [
       "[1, 2, 3, 4, 5, 6, 7, 8, 9]"
      ]
     },
     "execution_count": 18,
     "metadata": {},
     "output_type": "execute_result"
    }
   ],
   "source": [
    "#思想：在第i轮，将序列中找到最小的值，放到第i的位置，这样，每次需要找到最小的值。\n",
    "def SelectSort(n):\n",
    "    for i in range (len(n)):\n",
    "        min = i\n",
    "        for j in range(i+1,len(n)):\n",
    "            if (n[min]>n[j]):\n",
    "                min = j\n",
    "        if min!=i:\n",
    "            swap(n,min,i)\n",
    "\n",
    "n = [9,1,5,8,3,7,4,6,2]\n",
    "SelectSort(n)\n",
    "n"
   ]
  },
  {
   "cell_type": "markdown",
   "metadata": {},
   "source": [
    "# 3. 插入排序"
   ]
  },
  {
   "cell_type": "code",
   "execution_count": 46,
   "metadata": {},
   "outputs": [
    {
     "name": "stdout",
     "output_type": "stream",
     "text": [
      "[1, 2, 3, 4, 5, 6, 7, 8, 9]\n"
     ]
    }
   ],
   "source": [
    "def InsertSort(n):\n",
    "    for i in range(len(n)):\n",
    "        temp = n[i]\n",
    "        j = i-1\n",
    "        while j>=0 and temp<n[j]:\n",
    "            n[j+1] = n[j]\n",
    "            j -=1\n",
    "            n[j+1] = temp\n",
    "    print(n)\n",
    "n = [9,1,5,8,3,7,4,6,2]\n",
    "InsertSort(n)"
   ]
  },
  {
   "cell_type": "markdown",
   "metadata": {},
   "source": [
    "# 4.堆排序"
   ]
  },
  {
   "cell_type": "code",
   "execution_count": 3,
   "metadata": {
    "collapsed": true
   },
   "outputs": [],
   "source": [
    "def max_HeapAdjust(ary,start,end):\n",
    "    root = start\n",
    "    while True :\n",
    "        child = root*2 +1             #调整节点的子节点\n",
    "        if child > end : break\n",
    "        if child+1 <= end and ary[child] < ary[child+1] :\n",
    "            child = child+1             #取较大的子节点\n",
    "        if ary[root] < ary[child] :     #较大的子节点成为父节点\n",
    "            ary[root],ary[child] = ary[child],ary[root]     #交换\n",
    "            root = child\n",
    "        else :\n",
    "            break\n",
    "    print(ary)"
   ]
  },
  {
   "cell_type": "code",
   "execution_count": 5,
   "metadata": {},
   "outputs": [
    {
     "name": "stdout",
     "output_type": "stream",
     "text": [
      "[5, 1, 9, 6, 7, 4, 8, 3, 2]\n",
      "[5, 1, 9, 6, 7, 4, 8, 3, 2]\n",
      "[5, 7, 9, 6, 1, 4, 8, 3, 2]\n",
      "[9, 7, 8, 6, 1, 4, 5, 3, 2]\n",
      "[8, 7, 5, 6, 1, 4, 2, 3, 9]\n",
      "[7, 6, 5, 3, 1, 4, 2, 8, 9]\n",
      "[6, 3, 5, 2, 1, 4, 7, 8, 9]\n",
      "[5, 3, 4, 2, 1, 6, 7, 8, 9]\n",
      "[4, 3, 1, 2, 5, 6, 7, 8, 9]\n",
      "[3, 2, 1, 4, 5, 6, 7, 8, 9]\n",
      "[2, 1, 3, 4, 5, 6, 7, 8, 9]\n",
      "[1, 2, 3, 4, 5, 6, 7, 8, 9]\n"
     ]
    }
   ],
   "source": [
    "a =[5, 1, 9, 6, 7, 4, 8, 3, 2]\n",
    "n = len(a)\n",
    "first = int(n/2-1)\n",
    "for root in range (first,-1,-1):\n",
    "    max_HeapAdjust(a,root,n-1)\n",
    "for end in range(n-1,0,-1):\n",
    "    a[0],a[end] = a[end],a[0]\n",
    "    max_HeapAdjust(a,0,end-1)"
   ]
  },
  {
   "cell_type": "markdown",
   "metadata": {
    "collapsed": true
   },
   "source": [
    "# 5.快速排序(大话数据结构上的方法)"
   ]
  },
  {
   "cell_type": "code",
   "execution_count": 4,
   "metadata": {
    "collapsed": true
   },
   "outputs": [],
   "source": [
    "def partition(n,left,right):\n",
    "    key = n[left]\n",
    "    while(left<right):\n",
    "        while(left<right and n[right]>=key):\n",
    "            right -=1\n",
    "        n[left],n[right] = n[right],n[left]\n",
    "        while(left<right and n[left]=<key):\n",
    "            left +=1\n",
    "        n[left],n[right] = n[right],n[left]\n",
    "    return left\n",
    "\n",
    "    "
   ]
  },
  {
   "cell_type": "code",
   "execution_count": 5,
   "metadata": {
    "collapsed": true
   },
   "outputs": [],
   "source": [
    "def qsort(n,left,right):\n",
    "    if(left<right):\n",
    "        shuniu = partition(n,left,right)\n",
    "        \n",
    "        qsort(n,left,shuniu-1)\n",
    "        qsort(n,shuniu+1,right)\n",
    "        return n\n",
    "    "
   ]
  },
  {
   "cell_type": "code",
   "execution_count": 13,
   "metadata": {},
   "outputs": [
    {
     "name": "stdout",
     "output_type": "stream",
     "text": [
      "[1, 2, 3, 4, 5, 6, 7, 8, 9]\n"
     ]
    }
   ],
   "source": [
    "def QuickSort(n):\n",
    "    qsort(n,0,len(n)-1)\n",
    "n= [5, 1, 9, 6, 7, 4, 8, 3, 2]\n",
    "QuickSort(n)\n",
    "print(n)"
   ]
  },
  {
   "cell_type": "markdown",
   "metadata": {},
   "source": [
    "# 网站上的方法"
   ]
  },
  {
   "cell_type": "code",
   "execution_count": 34,
   "metadata": {},
   "outputs": [
    {
     "data": {
      "text/plain": [
       "[5, 1, 3, 4, 2, 7, 6, 8, 9]"
      ]
     },
     "execution_count": 34,
     "metadata": {},
     "output_type": "execute_result"
    }
   ],
   "source": []
  },
  {
   "cell_type": "code",
   "execution_count": 7,
   "metadata": {},
   "outputs": [
    {
     "data": {
      "text/plain": [
       "[1, 2, 3, 4, 5, 6, 7, 8, 9, 11, 26, 67, 87]"
      ]
     },
     "execution_count": 7,
     "metadata": {},
     "output_type": "execute_result"
    }
   ],
   "source": [
    "def qsort_web(n,left,right):\n",
    "    if left>=right: return n\n",
    "    key = n[left]\n",
    "    lp=left \n",
    "    rp=right\n",
    "    while(lp<rp):\n",
    "        while(lp<rp and n[rp]>=key):\n",
    "            rp -=1\n",
    "        n[lp],n[rp] = n[rp],n[lp]\n",
    "        while(lp<rp and n[lp]<=key):\n",
    "            lp +=1\n",
    "        n[lp],n[rp] = n[rp],n[lp]\n",
    "    #n[left],n[lp] = n[lp],n[left]\n",
    "    \n",
    "    qsort_web(n,left,lp-1)\n",
    "    qsort_web(n,lp+1,right)\n",
    "    return n\n",
    "def quicksort(n):\n",
    "    return qsort_web(n,0,len(n)-1)\n",
    "        \n",
    "n= [5, 1, 9, 6, 7, 4, 8, 3, 2,11,26,67,87]\n",
    "quicksort(n)    \n",
    "    "
   ]
  },
  {
   "cell_type": "code",
   "execution_count": 40,
   "metadata": {},
   "outputs": [
    {
     "data": {
      "text/plain": [
       "[1, 2, 3, 4, 5, 6, 7, 8, 9, 10, 13, 18, 30, 90]"
      ]
     },
     "execution_count": 40,
     "metadata": {},
     "output_type": "execute_result"
    }
   ],
   "source": [
    "def quick_sort(ary):\n",
    "    return qsort1(ary,0,len(ary)-1)\n",
    "\n",
    "def qsort1(ary,left,right):\n",
    "    #快排函数，ary为待排序数组，left为待排序的左边界，right为右边界\n",
    "    if left >= right : return ary\n",
    "    key = ary[left]     #取最左边的为基准数\n",
    "    lp = left           #左指针\n",
    "    rp = right          #右指针\n",
    "    while lp < rp :\n",
    "        while ary[rp] >= key and lp < rp :\n",
    "            rp -= 1\n",
    "        while ary[lp] <= key and lp < rp :\n",
    "            lp += 1\n",
    "        ary[lp],ary[rp] = ary[rp],ary[lp]\n",
    "    ary[left],ary[lp] = ary[lp],ary[left]\n",
    "    qsort1(ary,left,lp-1)\n",
    "    qsort1(ary,rp+1,right)\n",
    "    return ary\n",
    "ary = [5, 1, 9, 6, 7, 4, 8, 3, 2,13,18,10,90,30]\n",
    "quick_sort(ary)"
   ]
  }
 ],
 "metadata": {
  "kernelspec": {
   "display_name": "Python 3",
   "language": "python",
   "name": "python3"
  },
  "language_info": {
   "codemirror_mode": {
    "name": "ipython",
    "version": 3
   },
   "file_extension": ".py",
   "mimetype": "text/x-python",
   "name": "python",
   "nbconvert_exporter": "python",
   "pygments_lexer": "ipython3",
   "version": "3.6.3"
  }
 },
 "nbformat": 4,
 "nbformat_minor": 2
}
