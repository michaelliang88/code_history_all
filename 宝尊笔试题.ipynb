{
 "cells": [
  {
   "cell_type": "markdown",
   "metadata": {},
   "source": [
    "# 一个数组里的数字，某个数超过一半以上，请写程序把这个数找出来。"
   ]
  },
  {
   "cell_type": "code",
   "execution_count": 21,
   "metadata": {},
   "outputs": [
    {
     "name": "stdout",
     "output_type": "stream",
     "text": [
      "1,1,1,1,1,3,4,5\n",
      "[1, 1, 1, 1, 1, 3, 4, 5]\n",
      "1\n",
      "[5, 5, 5, 5, 5, 1, 1, 1]\n",
      "通过\n"
     ]
    }
   ],
   "source": [
    "n = input()\n",
    "b = n.split(',')\n",
    "a = [int(b[i]) for i in range(len(b))]\n",
    "print(a)\n",
    "count = []\n",
    "for i in range(len(a)):\n",
    "    count.append(a.count(a[i]))\n",
    "max_count = max(count)\n",
    "max_index = count.index(max_count)\n",
    "mubiao = a[max_index]\n",
    "print(mubiao)\n",
    "print(count)\n",
    "\n",
    "print('通过')"
   ]
  },
  {
   "cell_type": "code",
   "execution_count": null,
   "metadata": {
    "collapsed": true
   },
   "outputs": [],
   "source": []
  }
 ],
 "metadata": {
  "kernelspec": {
   "display_name": "Python 3",
   "language": "python",
   "name": "python3"
  },
  "language_info": {
   "codemirror_mode": {
    "name": "ipython",
    "version": 3
   },
   "file_extension": ".py",
   "mimetype": "text/x-python",
   "name": "python",
   "nbconvert_exporter": "python",
   "pygments_lexer": "ipython3",
   "version": "3.6.3"
  }
 },
 "nbformat": 4,
 "nbformat_minor": 2
}
