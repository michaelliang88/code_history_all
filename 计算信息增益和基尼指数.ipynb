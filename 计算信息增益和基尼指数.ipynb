{
 "cells": [
  {
   "cell_type": "markdown",
   "metadata": {},
   "source": [
    "# 1.计算信息增益"
   ]
  },
  {
   "cell_type": "code",
   "execution_count": 30,
   "metadata": {},
   "outputs": [
    {
     "name": "stdout",
     "output_type": "stream",
     "text": [
      "5    \n",
      "1,  1\n",
      "1,  1\n",
      "2,  0\n",
      "3,  0\n",
      "0,  0\n",
      "0.97\n"
     ]
    }
   ],
   "source": [
    "from math import log\n",
    "n = int(input())\n",
    "data = []\n",
    "for i in range (n):\n",
    "    x,y = map(int,input().split(','))\n",
    "    data.append([x,y])\n",
    "\n",
    "def Entrpy(data):\n",
    "    labelcount = {}\n",
    "    for d in data:\n",
    "        currentlabel = d[-1]\n",
    "        if currentlabel not in labelcount:\n",
    "            labelcount[currentlabel] = 0\n",
    "        labelcount[currentlabel] +=1\n",
    "    entrpy = 0.0\n",
    "    num = len(data)\n",
    "    for k in labelcount:\n",
    "        p = labelcount[k]/num\n",
    "        entrpy -= p * log(p,2)\n",
    "    return entrpy\n",
    "HD = Entrpy(data)\n",
    "feature_dic = {}\n",
    "for x,y in data:\n",
    "    if x not in feature_dic:\n",
    "        feature_dic[x] = []\n",
    "    feature_dic[x].append([x,y])\n",
    "#print(feature_dic)    \n",
    "HDA = 0.0\n",
    "nums = len(data)\n",
    "for _,f in feature_dic.items():\n",
    "    HDA += (len(f)/nums) * Entrpy(f)\n",
    "    #print(feature_dic[feature])\n",
    "    #print(i)\n",
    "result = round(HD-HDA,2)\n",
    "print(result)"
   ]
  },
  {
   "cell_type": "markdown",
   "metadata": {},
   "source": [
    "——————————————————————————\n",
    "# 2.计算基尼指数"
   ]
  },
  {
   "cell_type": "code",
   "execution_count": 47,
   "metadata": {},
   "outputs": [
    {
     "name": "stdout",
     "output_type": "stream",
     "text": [
      "5\n",
      "1,1\n",
      "1,1\n",
      "2,0\n",
      "3,0\n",
      "0,0\n",
      "[0.0, 0.4, 0.4, 0.4]\n"
     ]
    }
   ],
   "source": [
    "n = int(input())\n",
    "dataset = []\n",
    "for _ in range(n):\n",
    "    x,y = map(int,input().split(','))\n",
    "    dataset.append([x,y])\n",
    "\n",
    "def Gini(dataset):\n",
    "    labeljishu = {}\n",
    "    for b in dataset:\n",
    "        xianzailable =b[-1]\n",
    "        if xianzailable not in labeljishu:\n",
    "            labeljishu[xianzailable] = 0\n",
    "        labeljishu[xianzailable]+=1\n",
    "    sum_p2 =0.0\n",
    "    #gini = 0.0\n",
    "    for k in labeljishu:\n",
    "        p = labeljishu[k]/len(dataset)\n",
    "        sum_p2 +=p*p\n",
    "    gini = 1-sum_p2\n",
    "    return gini\n",
    "\n",
    "tezheng = {}\n",
    "ginia = []\n",
    "gini1 = 0.0\n",
    "gini2 = 0.0\n",
    "\n",
    "for x,y in dataset:\n",
    "    if x not in tezheng:\n",
    "        tezheng[x] = []\n",
    "    tezheng[x].append([x,y])\n",
    "nums = len(dataset)\n",
    "for _,t in tezheng.items():\n",
    "    data_copy = dataset.copy()       #这里需要把先拷贝一个 dataset\n",
    "    gini1 = (len(t)/nums)*Gini(t)   #先求特征等于一个值得GINI指数\n",
    "    for d in t:                     #把上面的特征对应的值删掉\n",
    "        data_copy.remove(d)\n",
    "    gini2 = ((5-len(t))/nums) * Gini(data_copy)   #再求身下的数据，对于的基尼指数\n",
    "    gini = gini1+gini2   #两部分相加\n",
    "    ginia.append(gini)\n",
    "print(ginia)    \n",
    "\n",
    "\n"
   ]
  },
  {
   "cell_type": "code",
   "execution_count": null,
   "metadata": {
    "collapsed": true
   },
   "outputs": [],
   "source": []
  }
 ],
 "metadata": {
  "kernelspec": {
   "display_name": "Python 3",
   "language": "python",
   "name": "python3"
  },
  "language_info": {
   "codemirror_mode": {
    "name": "ipython",
    "version": 3
   },
   "file_extension": ".py",
   "mimetype": "text/x-python",
   "name": "python",
   "nbconvert_exporter": "python",
   "pygments_lexer": "ipython3",
   "version": "3.6.3"
  }
 },
 "nbformat": 4,
 "nbformat_minor": 2
}
